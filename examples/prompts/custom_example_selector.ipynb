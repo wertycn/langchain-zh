{
 "cells": [
  {
   "cell_type": "markdown",
   "id": "f897c784",
   "metadata": {},
   "source": [
    "# Custom ExampleSelector\n",
    "\n",
    "This notebook goes over how to implement a custom ExampleSelector. ExampleSelectors are used to select examples to use in few shot prompts.\n",
    "\n",
    "An ExampleSelector must implement two methods:\n",
    "\n",
    "1. An `add_example` method which takes in an example and adds it into the ExampleSelector\n",
    "2. A `select_examples` method which takes in input variables (which are meant to be user input) and returns a list of examples to use in the few shot prompt.\n",
    "\n",
    "\n",
    "Let's implement a custom ExampleSelector that just selects two examples at random."
   ]
  },
  {
   "cell_type": "code",
   "execution_count": 1,
   "id": "1a945da1",
   "metadata": {},
   "outputs": [],
   "source": [
    "from langchain.prompts.example_selector.base import BaseExampleSelector\n",
    "from typing import Dict, List\n",
    "import numpy as np"
   ]
  },
  {
   "cell_type": "code",
   "execution_count": 2,
   "id": "62cf0ad7",
   "metadata": {},
   "outputs": [],
   "source": [
    "class CustomExampleSelector(BaseExampleSelector):\n",
    "    \n",
    "    def __init__(self, examples: List[Dict[str, str]]):\n",
    "        self.examples = examples\n",
    "    \n",
    "    def add_example(self, example: Dict[str, str]) -> None:\n",
    "        \"\"\"Add new example to store for a key.\"\"\"\n",
    "        self.examples.append(example)\n",
    "\n",
    "    def select_examples(self, input_variables: Dict[str, str]) -> List[dict]:\n",
    "        \"\"\"Select which examples to use based on the inputs.\"\"\"\n",
    "        return np.random.choice(self.examples, size=2, replace=False)"
   ]
  },
  {
   "cell_type": "code",
   "execution_count": 3,
   "id": "242d3213",
   "metadata": {},
   "outputs": [],
   "source": [
    "examples = [{\"foo\": \"1\"}, {\"foo\": \"2\"}, {\"foo\": \"3\"}]\n",
    "example_selector = CustomExampleSelector(examples)"
   ]
  },
  {
   "cell_type": "markdown",
   "id": "2a038065",
   "metadata": {},
   "source": [
    "Let's now try it out! We can select some examples and try adding examples."
   ]
  },
  {
   "cell_type": "code",
   "execution_count": 4,
   "id": "74fbbef5",
   "metadata": {},
   "outputs": [
    {
     "data": {
      "text/plain": [
       "array([{'foo': '2'}, {'foo': '3'}], dtype=object)"
      ]
     },
     "execution_count": 4,
     "metadata": {},
     "output_type": "execute_result"
    }
   ],
   "source": [
    "example_selector.select_examples({\"foo\": \"foo\"})"
   ]
  },
  {
   "cell_type": "code",
   "execution_count": 5,
   "id": "9bbb5421",
   "metadata": {},
   "outputs": [],
   "source": [
    "example_selector.add_example({\"foo\": \"4\"})"
   ]
  },
  {
   "cell_type": "code",
   "execution_count": 6,
   "id": "c0eb9f22",
   "metadata": {},
   "outputs": [
    {
     "data": {
      "text/plain": [
       "[{'foo': '1'}, {'foo': '2'}, {'foo': '3'}, {'foo': '4'}]"
      ]
     },
     "execution_count": 6,
     "metadata": {},
     "output_type": "execute_result"
    }
   ],
   "source": [
    "example_selector.examples"
   ]
  },
  {
   "cell_type": "code",
   "execution_count": 7,
   "id": "cc39b1e3",
   "metadata": {},
   "outputs": [
    {
     "data": {
      "text/plain": [
       "array([{'foo': '1'}, {'foo': '4'}], dtype=object)"
      ]
     },
     "execution_count": 7,
     "metadata": {},
     "output_type": "execute_result"
    }
   ],
   "source": [
    "example_selector.select_examples({\"foo\": \"foo\"})"
   ]
  },
  {
   "cell_type": "code",
   "execution_count": null,
   "id": "1739dd96",
   "metadata": {},
   "outputs": [],
   "source": []
  }
 ],
 "metadata": {
  "kernelspec": {
   "display_name": "Python 3 (ipykernel)",
   "language": "python",
   "name": "python3"
  },
  "language_info": {
   "codemirror_mode": {
    "name": "ipython",
    "version": 3
   },
   "file_extension": ".py",
   "mimetype": "text/x-python",
   "name": "python",
   "nbconvert_exporter": "python",
   "pygments_lexer": "ipython3",
   "version": "3.7.6"
  }
 },
 "nbformat": 4,
 "nbformat_minor": 5
}
