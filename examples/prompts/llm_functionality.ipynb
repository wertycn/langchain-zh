{
 "cells": [
  {
   "cell_type": "markdown",
   "id": "060f7bc9",
   "metadata": {},
   "source": [
    "# LLM Functionality\n",
    "\n",
    "This notebook goes over all the different features of the LLM class in LangChain.\n",
    "\n",
    "We will work with an OpenAI LLM wrapper, although these functionalities should exist for all LLM types."
   ]
  },
  {
   "cell_type": "code",
   "execution_count": 1,
   "id": "5bddaa9a",
   "metadata": {},
   "outputs": [],
   "source": [
    "from langchain.llms import OpenAI"
   ]
  },
  {
   "cell_type": "code",
   "execution_count": 2,
   "id": "f6bed875",
   "metadata": {},
   "outputs": [],
   "source": [
    "llm = OpenAI(model_name=\"text-ada-001\", n=2, best_of=2)"
   ]
  },
  {
   "cell_type": "markdown",
   "id": "edb2f14e",
   "metadata": {},
   "source": [
    "**Generate Text:** The most basic functionality an LLM has is just the ability to call it, passing in a string and getting back a string."
   ]
  },
  {
   "cell_type": "code",
   "execution_count": 3,
   "id": "c29ba285",
   "metadata": {},
   "outputs": [
    {
     "data": {
      "text/plain": [
       "'\\n\\nWhy did the chicken cross the road?\\n\\nTo get to the other side.'"
      ]
     },
     "execution_count": 3,
     "metadata": {},
     "output_type": "execute_result"
    }
   ],
   "source": [
    "llm(\"Tell me a joke\")"
   ]
  },
  {
   "cell_type": "markdown",
   "id": "1f4a350a",
   "metadata": {},
   "source": [
    "**Generate:** More broadly, you can call it with a list of inputs, getting back a more complete response than just the text. This complete response includes things like multiple top responses, as well as LLM provider specific information"
   ]
  },
  {
   "cell_type": "code",
   "execution_count": 4,
   "id": "a586c9ca",
   "metadata": {},
   "outputs": [],
   "source": [
    "llm_result = llm.generate([\"Tell me a joke\", \"Tell me a poem\"])"
   ]
  },
  {
   "cell_type": "code",
   "execution_count": 5,
   "id": "22470289",
   "metadata": {},
   "outputs": [
    {
     "data": {
      "text/plain": [
       "[Generation(text='\\n\\nWhy did the chicken cross the road?\\n\\nTo get to the other side.'),\n",
       " Generation(text='\\n\\nWhy did the chicken cross the road?\\n\\nTo get to the other side!')]"
      ]
     },
     "execution_count": 5,
     "metadata": {},
     "output_type": "execute_result"
    }
   ],
   "source": [
    "# Results of the first input\n",
    "llm_result.generations[0]"
   ]
  },
  {
   "cell_type": "code",
   "execution_count": 6,
   "id": "a1e72553",
   "metadata": {},
   "outputs": [
    {
     "data": {
      "text/plain": [
       "[Generation(text='\\n\\nIn the eyes of the moon\\n\\nI have seen a face\\n\\nThat I will never forget.\\n\\nThe light that I see\\n\\nIs like a fire in my heart.\\n\\nEvery letter I write\\n\\nWill be the last word\\n\\nOf my love for this person.\\n\\nThe darkness that I feel\\n\\nIs like a weight on my heart.'),\n",
       " Generation(text=\"\\n\\nA rose by the side of the road\\n\\nIs all I need to find my way\\n\\nTo the place I've been searching for\\n\\nAnd my heart is singing with joy\\n\\nWhen I look at this rose\\n\\nIt reminds me of the love I've found\\n\\nAnd I know that wherever I go\\n\\nI'll always find my rose by the side of the road.\")]"
      ]
     },
     "execution_count": 6,
     "metadata": {},
     "output_type": "execute_result"
    }
   ],
   "source": [
    "# Results of the second input\n",
    "llm_result.generations[1]"
   ]
  },
  {
   "cell_type": "code",
   "execution_count": 7,
   "id": "90c52536",
   "metadata": {},
   "outputs": [
    {
     "data": {
      "text/plain": [
       "{'token_usage': <OpenAIObject at 0x10b4f0d10> JSON: {\n",
       "   \"completion_tokens\": 199,\n",
       "   \"prompt_tokens\": 8,\n",
       "   \"total_tokens\": 207\n",
       " }}"
      ]
     },
     "execution_count": 7,
     "metadata": {},
     "output_type": "execute_result"
    }
   ],
   "source": [
    "# Provider specific info\n",
    "llm_result.llm_output"
   ]
  },
  {
   "cell_type": "markdown",
   "id": "92f6e7a5",
   "metadata": {},
   "source": [
    "**Number of Tokens:** You can also estimate how many tokens a piece of text will be in that model. This is useful because models have a context length (and cost more for more tokens), which means you need to be aware of how long the text you are passing in is.\n",
    "\n",
    "Notice that by default the tokens are estimated using a HuggingFace tokenizer."
   ]
  },
  {
   "cell_type": "code",
   "execution_count": 8,
   "id": "acfd9200",
   "metadata": {},
   "outputs": [
    {
     "name": "stderr",
     "output_type": "stream",
     "text": [
      "None of PyTorch, TensorFlow >= 2.0, or Flax have been found. Models won't be available and only tokenizers, configuration and file/data utilities can be used.\n"
     ]
    },
    {
     "data": {
      "text/plain": [
       "3"
      ]
     },
     "execution_count": 8,
     "metadata": {},
     "output_type": "execute_result"
    }
   ],
   "source": [
    "llm.get_num_tokens(\"what a joke\")"
   ]
  },
  {
   "cell_type": "code",
   "execution_count": null,
   "id": "68ff3688",
   "metadata": {},
   "outputs": [],
   "source": []
  }
 ],
 "metadata": {
  "kernelspec": {
   "display_name": "Python 3 (ipykernel)",
   "language": "python",
   "name": "python3"
  },
  "language_info": {
   "codemirror_mode": {
    "name": "ipython",
    "version": 3
   },
   "file_extension": ".py",
   "mimetype": "text/x-python",
   "name": "python",
   "nbconvert_exporter": "python",
   "pygments_lexer": "ipython3",
   "version": "3.10.8"
  }
 },
 "nbformat": 4,
 "nbformat_minor": 5
}
