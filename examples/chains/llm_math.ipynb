{
 "cells": [
  {
   "cell_type": "markdown",
   "id": "e71e720f",
   "metadata": {},
   "source": [
    "# LLM Math\n",
    "\n",
    "This notebook showcases using LLMs and Python REPLs to do complex word math problems."
   ]
  },
  {
   "cell_type": "code",
   "execution_count": 1,
   "id": "44e9ba31",
   "metadata": {},
   "outputs": [
    {
     "name": "stdout",
     "output_type": "stream",
     "text": [
      "\n",
      "\n",
      "\u001b[1m> Entering new chain...\u001b[0m\n",
      "How many of the integers between 0 and 99 inclusive are divisible by 8?\u001b[102m\n",
      "\n",
      "```python\n",
      "count = 0\n",
      "for i in range(100):\n",
      "    if i % 8 == 0:\n",
      "        count += 1\n",
      "print(count)\n",
      "```\n",
      "\u001b[0m\n",
      "Answer: \u001b[103m13\n",
      "\u001b[0m\n",
      "\u001b[1m> Finished chain.\u001b[0m\n"
     ]
    },
    {
     "data": {
      "text/plain": [
       "'Answer: 13\\n'"
      ]
     },
     "execution_count": 1,
     "metadata": {},
     "output_type": "execute_result"
    }
   ],
   "source": [
    "from langchain import OpenAI, LLMMathChain\n",
    "\n",
    "llm = OpenAI(temperature=0)\n",
    "llm_math = LLMMathChain(llm=llm, verbose=True)\n",
    "\n",
    "llm_math.run(\"How many of the integers between 0 and 99 inclusive are divisible by 8?\")"
   ]
  },
  {
   "cell_type": "code",
   "execution_count": null,
   "id": "f62f0c75",
   "metadata": {},
   "outputs": [],
   "source": []
  }
 ],
 "metadata": {
  "kernelspec": {
   "display_name": "Python 3 (ipykernel)",
   "language": "python",
   "name": "python3"
  },
  "language_info": {
   "codemirror_mode": {
    "name": "ipython",
    "version": 3
   },
   "file_extension": ".py",
   "mimetype": "text/x-python",
   "name": "python",
   "nbconvert_exporter": "python",
   "pygments_lexer": "ipython3",
   "version": "3.10.4"
  }
 },
 "nbformat": 4,
 "nbformat_minor": 5
}
