{
 "cells": [
  {
   "cell_type": "markdown",
   "id": "82140df0",
   "metadata": {},
   "source": [
    "# ReAct\n",
    "\n",
    "This notebook showcases the implementation of the ReAct chain logic."
   ]
  },
  {
   "cell_type": "code",
   "execution_count": 1,
   "id": "4e272b47",
   "metadata": {},
   "outputs": [],
   "source": [
    "from langchain import OpenAI, ReActChain, Wikipedia\n",
    "\n",
    "llm = OpenAI(temperature=0)\n",
    "react = ReActChain(llm=llm, docstore=Wikipedia(), verbose=True)"
   ]
  },
  {
   "cell_type": "code",
   "execution_count": 2,
   "id": "8078c8f1",
   "metadata": {},
   "outputs": [
    {
     "name": "stdout",
     "output_type": "stream",
     "text": [
      "\n",
      "\n",
      "\u001b[1m> Entering new chain...\u001b[0m\n",
      "Author David Chanoff has collaborated with a U.S. Navy admiral who served as the ambassador to the United Kingdom under which President?\n",
      "Thought 1:\u001b[102m I need to search David Chanoff and find the U.S. Navy admiral he\n",
      "collaborated with.\n",
      "Action 1: Search[David Chanoff]\u001b[0m\n",
      "Observation 1: \u001b[103mDavid Chanoff is a noted author of non-fiction work. His work has typically involved collaborations with the principal protagonist of the work concerned. His collaborators have included; Augustus A. White, Joycelyn Elders, Đoàn Văn Toại, William J. Crowe, Ariel Sharon, Kenneth Good and Felix Zandman. He has also written about a wide range of subjects including literary history, education and foreign for The Washington Post, The New Republic and The New York Times Magazine. He has published more than twelve books.\u001b[0m\n",
      "Thought 2:\u001b[102m The U.S. Navy admiral David Chanoff collaborated with is William J. Crowe.\n",
      "Action 2: Search[William J. Crowe]\u001b[0m\n",
      "Observation 2: \u001b[103mWilliam James Crowe Jr. (January 2, 1925 – October 18, 2007) was a United States Navy admiral and diplomat who served as the 11th chairman of the Joint Chiefs of Staff under Presidents Ronald Reagan and George H. W. Bush, and as the ambassador to the United Kingdom and Chair of the Intelligence Oversight Board under President Bill Clinton.\u001b[0m\n",
      "Thought 3:\u001b[102m William J. Crowe served as the ambassador to the United Kingdom under President Bill Clinton. So the answer is Bill Clinton.\n",
      "Action 3: Finish[Bill Clinton]\u001b[0m\n",
      "\u001b[1m> Finished chain.\u001b[0m\n"
     ]
    },
    {
     "data": {
      "text/plain": [
       "'Bill Clinton'"
      ]
     },
     "execution_count": 2,
     "metadata": {},
     "output_type": "execute_result"
    }
   ],
   "source": [
    "question = \"Author David Chanoff has collaborated with a U.S. Navy admiral who served as the ambassador to the United Kingdom under which President?\"\n",
    "react.run(question)"
   ]
  },
  {
   "cell_type": "code",
   "execution_count": null,
   "id": "0a6bd3b4",
   "metadata": {},
   "outputs": [],
   "source": []
  }
 ],
 "metadata": {
  "kernelspec": {
   "display_name": "Python 3 (ipykernel)",
   "language": "python",
   "name": "python3"
  },
  "language_info": {
   "codemirror_mode": {
    "name": "ipython",
    "version": 3
   },
   "file_extension": ".py",
   "mimetype": "text/x-python",
   "name": "python",
   "nbconvert_exporter": "python",
   "pygments_lexer": "ipython3",
   "version": "3.7.6"
  }
 },
 "nbformat": 4,
 "nbformat_minor": 5
}
