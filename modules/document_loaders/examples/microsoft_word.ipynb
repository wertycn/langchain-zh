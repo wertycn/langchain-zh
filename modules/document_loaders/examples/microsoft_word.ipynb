{
 "cells": [
  {
   "cell_type": "markdown",
   "id": "34c90eed",
   "metadata": {},
   "source": [
    "# Microsoft Word\n",
    "\n",
    "This notebook shows how to load text from Microsoft word documents."
   ]
  },
  {
   "cell_type": "code",
   "execution_count": 1,
   "id": "28ded768",
   "metadata": {},
   "outputs": [],
   "source": [
    "from langchain.document_loaders import UnstructuredDocxLoader"
   ]
  },
  {
   "cell_type": "code",
   "execution_count": 2,
   "id": "f1f26035",
   "metadata": {},
   "outputs": [],
   "source": [
    "loader = UnstructuredDocxLoader('example_data/fake.docx')"
   ]
  },
  {
   "cell_type": "code",
   "execution_count": 3,
   "id": "2c87dde9",
   "metadata": {},
   "outputs": [],
   "source": [
    "data = loader.load()"
   ]
  },
  {
   "cell_type": "code",
   "execution_count": 4,
   "id": "0e4a884c",
   "metadata": {},
   "outputs": [
    {
     "data": {
      "text/plain": [
       "[Document(page_content='Lorem ipsum dolor sit amet.', lookup_str='', metadata={'source': 'example_data/fake.docx'}, lookup_index=0)]"
      ]
     },
     "execution_count": 4,
     "metadata": {},
     "output_type": "execute_result"
    }
   ],
   "source": [
    "data"
   ]
  },
  {
   "cell_type": "code",
   "execution_count": null,
   "id": "61953c83",
   "metadata": {},
   "outputs": [],
   "source": []
  }
 ],
 "metadata": {
  "kernelspec": {
   "display_name": "Python 3 (ipykernel)",
   "language": "python",
   "name": "python3"
  },
  "language_info": {
   "codemirror_mode": {
    "name": "ipython",
    "version": 3
   },
   "file_extension": ".py",
   "mimetype": "text/x-python",
   "name": "python",
   "nbconvert_exporter": "python",
   "pygments_lexer": "ipython3",
   "version": "3.10.9"
  }
 },
 "nbformat": 4,
 "nbformat_minor": 5
}
