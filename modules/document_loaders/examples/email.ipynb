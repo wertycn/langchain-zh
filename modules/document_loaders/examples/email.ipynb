{
 "cells": [
  {
   "cell_type": "markdown",
   "id": "9fdbd55d",
   "metadata": {},
   "source": [
    "# Email\n",
    "\n",
    "This notebook shows how to load email (`.eml`) files."
   ]
  },
  {
   "cell_type": "code",
   "execution_count": 1,
   "id": "40cd9806",
   "metadata": {},
   "outputs": [],
   "source": [
    "from langchain.document_loaders import UnstructuredEmailLoader"
   ]
  },
  {
   "cell_type": "code",
   "execution_count": 2,
   "id": "2d20b852",
   "metadata": {},
   "outputs": [],
   "source": [
    "loader = UnstructuredEmailLoader('example_data/fake-email.eml')"
   ]
  },
  {
   "cell_type": "code",
   "execution_count": 3,
   "id": "579fa702",
   "metadata": {},
   "outputs": [],
   "source": [
    "data = loader.load()"
   ]
  },
  {
   "cell_type": "code",
   "execution_count": 4,
   "id": "90c1d899",
   "metadata": {},
   "outputs": [
    {
     "data": {
      "text/plain": [
       "[Document(page_content='This is a test email to use for unit tests.\\n\\nImportant points:\\n\\nRoses are red\\n\\nViolets are blue', lookup_str='', metadata={'source': 'example_data/fake-email.eml'}, lookup_index=0)]"
      ]
     },
     "execution_count": 4,
     "metadata": {},
     "output_type": "execute_result"
    }
   ],
   "source": [
    "data"
   ]
  },
  {
   "cell_type": "code",
   "execution_count": null,
   "id": "4ef9a5f4",
   "metadata": {},
   "outputs": [],
   "source": []
  }
 ],
 "metadata": {
  "kernelspec": {
   "display_name": "Python 3 (ipykernel)",
   "language": "python",
   "name": "python3"
  },
  "language_info": {
   "codemirror_mode": {
    "name": "ipython",
    "version": 3
   },
   "file_extension": ".py",
   "mimetype": "text/x-python",
   "name": "python",
   "nbconvert_exporter": "python",
   "pygments_lexer": "ipython3",
   "version": "3.10.9"
  }
 },
 "nbformat": 4,
 "nbformat_minor": 5
}
