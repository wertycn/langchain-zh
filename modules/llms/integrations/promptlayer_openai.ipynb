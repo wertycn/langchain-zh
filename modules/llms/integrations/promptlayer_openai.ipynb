{
 "cells": [
  {
   "attachments": {},
   "cell_type": "markdown",
   "id": "959300d4",
   "metadata": {},
   "source": [
    "# PromptLayer OpenAI\n",
    "\n",
    "This example showcases how to connect to [PromptLayer](https://www.promptlayer.com) to start recording your OpenAI requests."
   ]
  },
  {
   "cell_type": "code",
   "execution_count": 4,
   "id": "3acf0069",
   "metadata": {},
   "outputs": [
    {
     "data": {
      "text/plain": [
       "' to go outside\\n\\nUnfortunately, cats cannot go outside without being supervised by a human. Going outside can be dangerous for cats, as they may come into contact with cars, other animals, or other dangers. If you want to go outside, ask your human to take you on a supervised walk or to a safe, enclosed outdoor space.'"
      ]
     },
     "execution_count": 4,
     "metadata": {},
     "output_type": "execute_result"
    }
   ],
   "source": [
    "from langchain.llms import PromptLayerOpenAI\n",
    "import promptlayer\n",
    "import os\n",
    "\n",
    "# Set up API keys, you can get a promptlayer api key here: https://promptlayer.com/\n",
    "os.environ[\"OPENAI_API_KEY\"] = \"YOUR_OPENAI_API_KEY\"\n",
    "promptlayer.api_key = \"YOUR_PROMPTLAYER_API_KEY\"\n",
    "\n",
    "# Optionally pass in pl_tags to track your requests\n",
    "llm = PromptLayerOpenAI(pl_tags=[\"langchain\"])\n",
    "\n",
    "llm(\"I am a cat and I want\")"
   ]
  },
  {
   "cell_type": "code",
   "execution_count": null,
   "id": "ae4559c7",
   "metadata": {},
   "outputs": [],
   "source": []
  }
 ],
 "metadata": {
  "kernelspec": {
   "display_name": "base",
   "language": "python",
   "name": "python3"
  },
  "language_info": {
   "codemirror_mode": {
    "name": "ipython",
    "version": 3
   },
   "file_extension": ".py",
   "mimetype": "text/x-python",
   "name": "python",
   "nbconvert_exporter": "python",
   "pygments_lexer": "ipython3",
   "version": "3.8.8"
  },
  "vscode": {
   "interpreter": {
    "hash": "c4fe2cd85a8d9e8baaec5340ce66faff1c77581a9f43e6c45e85e09b6fced008"
   }
  }
 },
 "nbformat": 4,
 "nbformat_minor": 5
}
