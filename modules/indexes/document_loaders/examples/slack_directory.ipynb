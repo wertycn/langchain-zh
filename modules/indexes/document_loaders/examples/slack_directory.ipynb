{
 "cells": [
  {
   "attachments": {},
   "cell_type": "markdown",
   "id": "1dc7df1d",
   "metadata": {},
   "source": [
    "# Slack\n",
    "\n",
    "This notebook covers how to load documents from a Slack export dumped locally.\n",
    "\n",
    "In order to get this Slack dump, follow these instructions:\n",
    "\n",
    "## 🧑 Instructions for ingesting your own dataset\n",
    "\n",
    "Export your Slack data. You can do this by going to your Workspace Management page and clicking the Import/Export option ({your_slack_domain}.slack.com/services/export). Then, choose the right date range and click `Start export`. Slack will send you an email and a DM when the export is ready.\n",
    "\n",
    "The download will produce a `.zip` file in your Downloads folder (or wherever your downloads can be found, depending on your OS configuration).\n",
    "\n",
    "Run the following command to unzip the zip file (replace the `Export...` with your own file name as needed) or unzip using built-in tools.\n",
    "\n",
    "```shell\n",
    "unzip xxx.zip -d Slack_Exports\n",
    "```\n",
    "\n",
    "Once ready, move the directory to the directory you are running this notebook from."
   ]
  },
  {
   "cell_type": "code",
   "execution_count": null,
   "id": "007c5cbf",
   "metadata": {},
   "outputs": [],
   "source": [
    "from langchain.document_loaders import SLackDirectoryLoader"
   ]
  },
  {
   "cell_type": "code",
   "execution_count": null,
   "id": "a1caec59",
   "metadata": {},
   "outputs": [],
   "source": [
    "# Optionally set your Slack URL. This will give you proper URLs in sources which is very convernient.\n",
    "SLACK_WORKSPACE_URL = \"https://xxx.slack.com\"\n",
    "\n",
    "loader = (\"Slack_Exports\", SLACK_WORKSPACE_URL)"
   ]
  },
  {
   "cell_type": "code",
   "execution_count": null,
   "id": "b1c30ff7",
   "metadata": {},
   "outputs": [],
   "source": [
    "docs = loader.load()"
   ]
  }
 ],
 "metadata": {
  "kernelspec": {
   "display_name": "Python 3 (ipykernel)",
   "language": "python",
   "name": "python3"
  },
  "language_info": {
   "codemirror_mode": {
    "name": "ipython",
    "version": 3
   },
   "file_extension": ".py",
   "mimetype": "text/x-python",
   "name": "python",
   "nbconvert_exporter": "python",
   "pygments_lexer": "ipython3",
   "version": "3.10.9"
  }
 },
 "nbformat": 4,
 "nbformat_minor": 5
}
