{
 "cells": [
  {
   "cell_type": "code",
   "execution_count": null,
   "id": "6ad0a850",
   "metadata": {},
   "outputs": [],
   "source": [
    "import pandas as pd"
   ]
  },
  {
   "cell_type": "code",
   "execution_count": null,
   "id": "3d4f1bdd",
   "metadata": {},
   "outputs": [],
   "source": [
    "df = pd.read_csv(\"example_data/fake_discord_chat.csv\")\n",
    "df.head()"
   ]
  },
  {
   "cell_type": "code",
   "execution_count": null,
   "id": "82880d80",
   "metadata": {},
   "outputs": [],
   "source": [
    "from langchain.document_loaders.discord import DiscordChatLoader"
   ]
  },
  {
   "cell_type": "code",
   "execution_count": null,
   "id": "b825a8d3",
   "metadata": {},
   "outputs": [],
   "source": [
    "loader = DiscordChatLoader(df, user_id_col=\"user_id\")\n",
    "print(loader.load())"
   ]
  }
 ],
 "metadata": {
  "kernelspec": {
   "display_name": "Python 3 (ipykernel)",
   "language": "python",
   "name": "python3"
  },
  "language_info": {
   "codemirror_mode": {
    "name": "ipython",
    "version": 3
   },
   "file_extension": ".py",
   "mimetype": "text/x-python",
   "name": "python",
   "nbconvert_exporter": "python",
   "pygments_lexer": "ipython3",
   "version": "3.10.9"
  }
 },
 "nbformat": 4,
 "nbformat_minor": 5
}
