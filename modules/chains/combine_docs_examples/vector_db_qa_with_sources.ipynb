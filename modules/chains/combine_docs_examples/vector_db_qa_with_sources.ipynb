{
 "cells": [
  {
   "cell_type": "markdown",
   "id": "efc5be67",
   "metadata": {},
   "source": [
    "# VectorDB Question Ansering with Sources\n",
    "\n",
    "This notebook goes over how to do question-answering with sources over a vector database. It does this by using the `VectorDBQAWithSourcesChain`, which does the lookup of the documents from a vector database. "
   ]
  },
  {
   "cell_type": "code",
   "execution_count": 1,
   "id": "1c613960",
   "metadata": {},
   "outputs": [],
   "source": [
    "from langchain.embeddings.openai import OpenAIEmbeddings\n",
    "from langchain.embeddings.cohere import CohereEmbeddings\n",
    "from langchain.text_splitter import CharacterTextSplitter\n",
    "from langchain.vectorstores.elastic_vector_search import ElasticVectorSearch\n",
    "from langchain.vectorstores.faiss import FAISS"
   ]
  },
  {
   "cell_type": "code",
   "execution_count": 3,
   "id": "17d1306e",
   "metadata": {},
   "outputs": [],
   "source": [
    "with open('../../state_of_the_union.txt') as f:\n",
    "    state_of_the_union = f.read()\n",
    "text_splitter = CharacterTextSplitter(chunk_size=1000, chunk_overlap=0)\n",
    "texts = text_splitter.split_text(state_of_the_union)\n",
    "\n",
    "embeddings = OpenAIEmbeddings()"
   ]
  },
  {
   "cell_type": "code",
   "execution_count": 4,
   "id": "0e745d99",
   "metadata": {},
   "outputs": [],
   "source": [
    "docsearch = FAISS.from_texts(texts, embeddings)"
   ]
  },
  {
   "cell_type": "code",
   "execution_count": 5,
   "id": "f42d79dc",
   "metadata": {},
   "outputs": [],
   "source": [
    "# Add in a fake source information\n",
    "for i, d in enumerate(docsearch.docstore._dict.values()):\n",
    "    d.metadata = {'source': f\"{i}-pl\"}"
   ]
  },
  {
   "cell_type": "code",
   "execution_count": 6,
   "id": "8aa571ae",
   "metadata": {},
   "outputs": [],
   "source": [
    "from langchain.chains import VectorDBQAWithSourcesChain"
   ]
  },
  {
   "cell_type": "code",
   "execution_count": 8,
   "id": "aa859d4c",
   "metadata": {},
   "outputs": [],
   "source": [
    "from langchain import OpenAI\n",
    "\n",
    "chain = VectorDBQAWithSourcesChain.from_llm(OpenAI(temperature=0), vectorstore=docsearch)"
   ]
  },
  {
   "cell_type": "code",
   "execution_count": 9,
   "id": "8ba36fa7",
   "metadata": {},
   "outputs": [
    {
     "data": {
      "text/plain": [
       "{'answer': ' The president thanked Justice Breyer for his service.',\n",
       " 'sources': '30-pl'}"
      ]
     },
     "execution_count": 9,
     "metadata": {},
     "output_type": "execute_result"
    }
   ],
   "source": [
    "chain({\"question\": \"What did the president say about Justice Breyer\"}, return_only_outputs=True)"
   ]
  }
 ],
 "metadata": {
  "kernelspec": {
   "display_name": "Python 3.9.0 64-bit ('llm-env')",
   "language": "python",
   "name": "python3"
  },
  "language_info": {
   "codemirror_mode": {
    "name": "ipython",
    "version": 3
   },
   "file_extension": ".py",
   "mimetype": "text/x-python",
   "name": "python",
   "nbconvert_exporter": "python",
   "pygments_lexer": "ipython3",
   "version": "3.9.0"
  },
  "vscode": {
   "interpreter": {
    "hash": "b1677b440931f40d89ef8be7bf03acb108ce003de0ac9b18e8d43753ea2e7103"
   }
  }
 },
 "nbformat": 4,
 "nbformat_minor": 5
}
